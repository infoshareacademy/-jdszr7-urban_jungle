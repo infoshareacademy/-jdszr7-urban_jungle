{
 "cells": [
  {
   "cell_type": "code",
   "execution_count": 2,
   "id": "89af6bf4",
   "metadata": {},
   "outputs": [],
   "source": [
    "import numpy as np\n",
    "import pandas as pd\n",
    "import matplotlib.pyplot as plt\n",
    "import seaborn as sns\n",
    "\n",
    "import ipywidgets as widgets\n",
    "from IPython.display import display\n",
    "from IPython.display import clear_output"
   ]
  },
  {
   "cell_type": "code",
   "execution_count": 4,
   "id": "a468d185",
   "metadata": {},
   "outputs": [],
   "source": [
    "df = pd.read_csv('/Users/sandramikolajek/Downloads/WA_Fn-UseC_-HR-Employee-Attrition.csv')"
   ]
  },
  {
   "cell_type": "code",
   "execution_count": 5,
   "id": "b14d4167",
   "metadata": {},
   "outputs": [
    {
     "data": {
      "text/html": [
       "<div>\n",
       "<style scoped>\n",
       "    .dataframe tbody tr th:only-of-type {\n",
       "        vertical-align: middle;\n",
       "    }\n",
       "\n",
       "    .dataframe tbody tr th {\n",
       "        vertical-align: top;\n",
       "    }\n",
       "\n",
       "    .dataframe thead th {\n",
       "        text-align: right;\n",
       "    }\n",
       "</style>\n",
       "<table border=\"1\" class=\"dataframe\">\n",
       "  <thead>\n",
       "    <tr style=\"text-align: right;\">\n",
       "      <th></th>\n",
       "      <th>Department</th>\n",
       "      <th>JobRole</th>\n",
       "      <th>JobLevel</th>\n",
       "      <th>Education</th>\n",
       "      <th>EmployeeNumber</th>\n",
       "    </tr>\n",
       "  </thead>\n",
       "  <tbody>\n",
       "    <tr>\n",
       "      <th>0</th>\n",
       "      <td>Sales</td>\n",
       "      <td>Manager</td>\n",
       "      <td>3</td>\n",
       "      <td>1</td>\n",
       "      <td>1</td>\n",
       "    </tr>\n",
       "    <tr>\n",
       "      <th>1</th>\n",
       "      <td>Sales</td>\n",
       "      <td>Manager</td>\n",
       "      <td>3</td>\n",
       "      <td>2</td>\n",
       "      <td>1</td>\n",
       "    </tr>\n",
       "    <tr>\n",
       "      <th>2</th>\n",
       "      <td>Sales</td>\n",
       "      <td>Manager</td>\n",
       "      <td>3</td>\n",
       "      <td>3</td>\n",
       "      <td>2</td>\n",
       "    </tr>\n",
       "    <tr>\n",
       "      <th>3</th>\n",
       "      <td>Sales</td>\n",
       "      <td>Manager</td>\n",
       "      <td>4</td>\n",
       "      <td>1</td>\n",
       "      <td>1</td>\n",
       "    </tr>\n",
       "    <tr>\n",
       "      <th>4</th>\n",
       "      <td>Sales</td>\n",
       "      <td>Manager</td>\n",
       "      <td>4</td>\n",
       "      <td>2</td>\n",
       "      <td>3</td>\n",
       "    </tr>\n",
       "    <tr>\n",
       "      <th>5</th>\n",
       "      <td>Sales</td>\n",
       "      <td>Manager</td>\n",
       "      <td>4</td>\n",
       "      <td>3</td>\n",
       "      <td>8</td>\n",
       "    </tr>\n",
       "    <tr>\n",
       "      <th>6</th>\n",
       "      <td>Sales</td>\n",
       "      <td>Manager</td>\n",
       "      <td>4</td>\n",
       "      <td>4</td>\n",
       "      <td>6</td>\n",
       "    </tr>\n",
       "    <tr>\n",
       "      <th>7</th>\n",
       "      <td>Sales</td>\n",
       "      <td>Manager</td>\n",
       "      <td>4</td>\n",
       "      <td>5</td>\n",
       "      <td>2</td>\n",
       "    </tr>\n",
       "    <tr>\n",
       "      <th>8</th>\n",
       "      <td>Sales</td>\n",
       "      <td>Manager</td>\n",
       "      <td>5</td>\n",
       "      <td>1</td>\n",
       "      <td>1</td>\n",
       "    </tr>\n",
       "    <tr>\n",
       "      <th>9</th>\n",
       "      <td>Sales</td>\n",
       "      <td>Manager</td>\n",
       "      <td>5</td>\n",
       "      <td>2</td>\n",
       "      <td>2</td>\n",
       "    </tr>\n",
       "    <tr>\n",
       "      <th>10</th>\n",
       "      <td>Sales</td>\n",
       "      <td>Manager</td>\n",
       "      <td>5</td>\n",
       "      <td>3</td>\n",
       "      <td>4</td>\n",
       "    </tr>\n",
       "    <tr>\n",
       "      <th>11</th>\n",
       "      <td>Sales</td>\n",
       "      <td>Manager</td>\n",
       "      <td>5</td>\n",
       "      <td>4</td>\n",
       "      <td>5</td>\n",
       "    </tr>\n",
       "    <tr>\n",
       "      <th>12</th>\n",
       "      <td>Sales</td>\n",
       "      <td>Manager</td>\n",
       "      <td>5</td>\n",
       "      <td>5</td>\n",
       "      <td>1</td>\n",
       "    </tr>\n",
       "  </tbody>\n",
       "</table>\n",
       "</div>"
      ],
      "text/plain": [
       "   Department  JobRole  JobLevel  Education  EmployeeNumber\n",
       "0       Sales  Manager         3          1               1\n",
       "1       Sales  Manager         3          2               1\n",
       "2       Sales  Manager         3          3               2\n",
       "3       Sales  Manager         4          1               1\n",
       "4       Sales  Manager         4          2               3\n",
       "5       Sales  Manager         4          3               8\n",
       "6       Sales  Manager         4          4               6\n",
       "7       Sales  Manager         4          5               2\n",
       "8       Sales  Manager         5          1               1\n",
       "9       Sales  Manager         5          2               2\n",
       "10      Sales  Manager         5          3               4\n",
       "11      Sales  Manager         5          4               5\n",
       "12      Sales  Manager         5          5               1"
      ]
     },
     "execution_count": 5,
     "metadata": {},
     "output_type": "execute_result"
    }
   ],
   "source": [
    "newdf = df[(df.Department == 'Sales') & (df.JobRole == 'Manager')].groupby(['Department', 'JobRole', 'JobLevel', 'Education'])['EmployeeNumber'].count().reset_index()\n",
    "newdf"
   ]
  },
  {
   "cell_type": "code",
   "execution_count": 6,
   "id": "ab1b35d0",
   "metadata": {},
   "outputs": [
    {
     "data": {
      "text/plain": [
       "<function matplotlib.pyplot.pie(x, explode=None, labels=None, colors=None, autopct=None, pctdistance=0.6, shadow=False, labeldistance=1.1, startangle=0, radius=1, counterclock=True, wedgeprops=None, textprops=None, center=(0, 0), frame=False, rotatelabels=False, *, normalize=None, data=None)>"
      ]
     },
     "execution_count": 6,
     "metadata": {},
     "output_type": "execute_result"
    },
    {
     "data": {
      "image/png": "[encoded data removed]",
      "text/plain": [
       "<Figure size 576x576 with 1 Axes>"
      ]
     },
     "metadata": {},
     "output_type": "display_data"
    }
   ],
   "source": [
    "#do zmiany ręcznej - Education Field\n",
    "\n",
    "newdf = df[(df.Department == 'Sales') & (df.JobRole == 'Manager') & (df.JobLevel == 3)].groupby(['Department', 'JobRole', 'JobLevel', 'EducationField'])['EmployeeNumber'].count().reset_index()\n",
    "plt.figure(figsize=(8,8))\n",
    "plt.pie(newdf.EmployeeNumber, labels=newdf.EducationField, autopct='%1.1f%%', startangle=90, normalize=True)\n",
    "plt.suptitle('Education Field', y=0.95, fontsize=14, fontweight='semibold');\n",
    "plt.pie\n"
   ]
  },
  {
   "cell_type": "code",
   "execution_count": 7,
   "id": "ff23737b",
   "metadata": {},
   "outputs": [
    {
     "data": {
      "application/vnd.jupyter.widget-view+json": {
       "model_id": "57594e6c12af4c3fa39cd2e04f081656",
       "version_major": 2,
       "version_minor": 0
      },
      "text/plain": [
       "HBox(children=(Dropdown(description='Department: ', options=('Sales', 'Research & Development', 'Human Resourc…"
      ]
     },
     "metadata": {},
     "output_type": "display_data"
    },
    {
     "data": {
      "image/png": "[encoded data removed]",
      "text/plain": [
       "<Figure size 576x576 with 1 Axes>"
      ]
     },
     "metadata": {},
     "output_type": "display_data"
    },
    {
     "data": {
      "image/png": "[encoded data removed]",
      "text/plain": [
       "<Figure size 576x576 with 1 Axes>"
      ]
     },
     "metadata": {},
     "output_type": "display_data"
    }
   ],
   "source": [
    "# do filtrowania dropdownami - Education Field\n",
    "\n",
    "output = widgets.Output()\n",
    "dropdown_dpt = widgets.Dropdown(options = df.Department.unique(), description = 'Department: ')\n",
    "dropdown_jr = widgets.Dropdown(options = df.JobRole.unique(), description = 'Job Role: ')\n",
    "dropdown_jl = widgets.Dropdown(options = df.JobLevel.unique(), description = 'Job Level: ')\n",
    "\n",
    "def filter(dpt, jr):\n",
    "    newdf = df[(df.Department == dropdown_dpt.value) & (df.JobRole == dropdown_jr.value) & (df.JobLevel == dropdown_jl.value)].groupby(['Department', 'JobRole', 'JobLevel', 'EducationField'])['EmployeeNumber'].count().reset_index()\n",
    "    plt.figure(figsize=(8,8))\n",
    "    plt.pie(newdf.EmployeeNumber, labels=newdf.EducationField, autopct='%1.1f%%', startangle=90, normalize=True)\n",
    "    with output:\n",
    "        display(plt.pie)\n",
    "\n",
    "def dropdown_dpt_eventhandler(change):\n",
    "    filter(change.new, dropdown_dpt.value)\n",
    "def dropdown_jr_eventhandler(change):\n",
    "    filter(change.new, dropdown_jr.value)\n",
    "def dropdown_jl_eventhandler(change):\n",
    "    filter(change.new, dropdown_jl.value)\n",
    "\n",
    "    \n",
    "dropdown_dpt.observe(dropdown_dpt_eventhandler, names='value')\n",
    "dropdown_jr.observe(dropdown_jr_eventhandler, names='value')\n",
    "dropdown_jl.observe(dropdown_jl_eventhandler, names='value')\n",
    "\n",
    "input_widgets = widgets.HBox([dropdown_dpt, dropdown_jr, dropdown_jl])\n",
    "display(input_widgets)\n",
    "\n"
   ]
  },
  {
   "cell_type": "code",
   "execution_count": null,
   "id": "74a60ee3",
   "metadata": {},
   "outputs": [],
   "source": []
  }
 ],
 "metadata": {
  "kernelspec": {
   "display_name": "Python 3 (ipykernel)",
   "language": "python",
   "name": "python3"
  },
  "language_info": {
   "codemirror_mode": {
    "name": "ipython",
    "version": 3
   },
   "file_extension": ".py",
   "mimetype": "text/x-python",
   "name": "python",
   "nbconvert_exporter": "python",
   "pygments_lexer": "ipython3",
   "version": "3.9.7"
  }
 },
 "nbformat": 4,
 "nbformat_minor": 5
}
