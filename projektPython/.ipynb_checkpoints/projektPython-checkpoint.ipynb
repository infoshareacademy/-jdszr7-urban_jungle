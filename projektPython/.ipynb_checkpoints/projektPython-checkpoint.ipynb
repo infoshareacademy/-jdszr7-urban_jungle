{
 "cells": [
  {
   "cell_type": "code",
   "execution_count": 1,
   "id": "8089bf36",
   "metadata": {},
   "outputs": [],
   "source": [
    "import pandas as pd\n",
    "#custom packages\n",
    "import reportTools as report"
   ]
  },
  {
   "cell_type": "markdown",
   "id": "1c76b9af",
   "metadata": {},
   "source": [
    "# Python Project\n",
    "**Authors** <br>\n",
    "    *Michał Sasuła* <br>\n",
    "    *Olga Zięba* <br>\n",
    "    *Sandra Mikołajek* <br>\n",
    "    *Wioleta Krajewska*"
   ]
  },
  {
   "cell_type": "markdown",
   "id": "78602b3e",
   "metadata": {},
   "source": [
    "## Temat nr 4:\n",
    "Kim jesteśmy i dokąd zmierzamy (zawodowo)?\n",
    "* [wyniki ankiety pracowniczej](https://www.kaggle.com/pavansubhasht/ibm-hr-analytics-attrition-dataset) - opracowywane dane\n",
    "* Cel Statystyczny: Analiza najciekawszych zawodów pod względem\n",
    "zadowolenia, poziomu zarobków oraz wymaganego poziomu edukacji.\n",
    "* Cel Python: Aplikacja służąca do wyznaczenia poziomu na jakim się\n",
    "znajdujemy oraz wskazania co możemy poprawić abyśmy dostali lepszą\n",
    "pracę."
   ]
  },
  {
   "cell_type": "code",
   "execution_count": 2,
   "id": "cc543659",
   "metadata": {},
   "outputs": [],
   "source": [
    "data = pd.read_csv('WA_Fn-UseC_-HR-Employee-Attrition.csv')\n",
    "# dodano dodatkową kolumnę pomocniczą celem łatwiejszej agregacji danych\n",
    "data['years_at_company_indicator'] = data['YearsAtCompany'].apply(lambda x: x if x<=20 else 21)"
   ]
  },
  {
   "cell_type": "markdown",
   "id": "95b26c6f",
   "metadata": {},
   "source": [
    "# Report"
   ]
  },
  {
   "cell_type": "code",
   "execution_count": 4,
   "id": "0f32e469",
   "metadata": {
    "scrolled": false
   },
   "outputs": [
    {
     "data": {
      "application/vnd.jupyter.widget-view+json": {
       "model_id": "2ab86dd833444ef28a373b6912a59b8a",
       "version_major": 2,
       "version_minor": 0
      },
      "text/plain": [
       "VBox(children=(Dropdown(description='Department: ', options=('Sales', 'Research & Development', 'Human Resourc…"
      ]
     },
     "metadata": {},
     "output_type": "display_data"
    },
    {
     "data": {
      "application/vnd.jupyter.widget-view+json": {
       "model_id": "338b88e0e8e1436baf366a6dff7d9e66",
       "version_major": 2,
       "version_minor": 0
      },
      "text/plain": [
       "Output()"
      ]
     },
     "metadata": {},
     "output_type": "display_data"
    }
   ],
   "source": [
    "report.prepare_widgets(data, report.prepareReport)"
   ]
  }
 ],
 "metadata": {
  "kernelspec": {
   "display_name": "Python [conda env:Anaconda3]",
   "language": "python",
   "name": "conda-env-Anaconda3-py"
  },
  "language_info": {
   "codemirror_mode": {
    "name": "ipython",
    "version": 3
   },
   "file_extension": ".py",
   "mimetype": "text/x-python",
   "name": "python",
   "nbconvert_exporter": "python",
   "pygments_lexer": "ipython3",
   "version": "3.9.7"
  },
  "vscode": {
   "interpreter": {
    "hash": "116f7563fcc7307ca320b117e386c3da5892ad9f11ba74fc0467206fa52965ee"
   }
  }
 },
 "nbformat": 4,
 "nbformat_minor": 5
}
